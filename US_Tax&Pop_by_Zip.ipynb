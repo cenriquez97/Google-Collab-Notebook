{
  "nbformat": 4,
  "nbformat_minor": 0,
  "metadata": {
    "colab": {
      "provenance": [],
      "authorship_tag": "ABX9TyMRCw/fGzY6quProoda4p+T",
      "include_colab_link": true
    },
    "kernelspec": {
      "name": "python3",
      "display_name": "Python 3"
    },
    "language_info": {
      "name": "python"
    }
  },
  "cells": [
    {
      "cell_type": "markdown",
      "metadata": {
        "id": "view-in-github",
        "colab_type": "text"
      },
      "source": [
        "<a href=\"https://colab.research.google.com/github/cenriquez97/Google-Collab-Notebook/blob/main/US_Tax%26Pop_by_Zip.ipynb\" target=\"_parent\"><img src=\"https://colab.research.google.com/assets/colab-badge.svg\" alt=\"Open In Colab\"/></a>"
      ]
    },
    {
      "cell_type": "code",
      "execution_count": null,
      "metadata": {
        "colab": {
          "base_uri": "https://localhost:8080/"
        },
        "id": "WDyIcPKiMV32",
        "outputId": "87e4965f-d539-4770-cfc6-491dfd8c39c2"
      },
      "outputs": [
        {
          "output_type": "stream",
          "name": "stdout",
          "text": [
            "      State ZipCode                         TaxRegionName  \\\n",
            "0        WI   53001                             SHEBOYGAN   \n",
            "1        WI   53002                                 DODGE   \n",
            "2        WI   53003                                 DODGE   \n",
            "3        WI   53004  BASEBALL STADIUM DISTRICT OZAUKEE CO   \n",
            "4        WI   53005                             MILWAUKEE   \n",
            "...     ...     ...                                   ...   \n",
            "31268    AR   72952                            CEDARVILLE   \n",
            "31269    AR   72955                              CRAWFORD   \n",
            "31270    AR   72956                             VAN BUREN   \n",
            "31271    AR   72958                               WALDRON   \n",
            "31272    AR   72959                               WINSLOW   \n",
            "\n",
            "       EstimatedCombinedRate  StateRate  EstimatedCountyRate  \\\n",
            "0                     0.0550      0.050               0.0050   \n",
            "1                     0.0550      0.050               0.0050   \n",
            "2                     0.0550      0.050               0.0050   \n",
            "3                     0.0550      0.050               0.0050   \n",
            "4                     0.0590      0.050               0.0090   \n",
            "...                      ...        ...                  ...   \n",
            "31268                 0.0875      0.065               0.0125   \n",
            "31269                 0.0775      0.065               0.0125   \n",
            "31270                 0.0925      0.065               0.0125   \n",
            "31271                 0.0950      0.065               0.0200   \n",
            "31272                 0.0975      0.065               0.0125   \n",
            "\n",
            "       EstimatedCityRate  EstimatedSpecialRate  RiskLevel  \\\n",
            "0                  0.000                   0.0          0   \n",
            "1                  0.000                   0.0          0   \n",
            "2                  0.000                   0.0          0   \n",
            "3                  0.000                   0.0          0   \n",
            "4                  0.000                   0.0          0   \n",
            "...                  ...                   ...        ...   \n",
            "31268              0.010                   0.0          0   \n",
            "31269              0.000                   0.0          0   \n",
            "31270              0.015                   0.0          0   \n",
            "31271              0.010                   0.0          0   \n",
            "31272              0.020                   0.0          0   \n",
            "\n",
            "       Population Estimate Population Margin of Error  \n",
            "0                     1804                        221  \n",
            "1                     2611                        410  \n",
            "2                      119                         50  \n",
            "3                     3551                        416  \n",
            "4                    22125                        795  \n",
            "...                    ...                        ...  \n",
            "31268                 2021                        582  \n",
            "31269                 1296                        795  \n",
            "31270                34102                       1239  \n",
            "31271                 6566                        444  \n",
            "31272                 2957                        591  \n",
            "\n",
            "[31273 rows x 11 columns]\n"
          ]
        }
      ],
      "source": [
        "import pandas as pd\n",
        "import glob\n",
        "import os\n",
        "\n",
        "# Get a list of all CSV files in the current directory\n",
        "csv_files = glob.glob('*.csv')\n",
        "\n",
        "# Create an empty list to store dataframes\n",
        "df_list = []\n",
        "\n",
        "# Loop through each CSV file\n",
        "for file in csv_files:\n",
        "    # Read the CSV file into a dataframe\n",
        "    df = pd.read_csv(file)\n",
        "    # Append the dataframe to the list\n",
        "    df_list.append(df)\n",
        "\n",
        "# Concatenate all dataframes in the list into one\n",
        "combined_df = pd.concat(df_list, ignore_index=True)\n",
        "\n",
        "# Change the Data Type for ZipCode Column from floating point to string\n",
        "combined_df['ZipCode']=combined_df['ZipCode'].astype(str)\n",
        "\n",
        "#Add Population Zip File Here\n",
        "zip_code_df = pd.read_csv('/content/ACSDT5Y2023.B01003-Data[1].csv', header=1)\n",
        "zip_code_df['Geographic Area Name'] = zip_code_df['Geographic Area Name'].str[-5:]\n",
        "merged_df = pd.merge(combined_df, zip_code_df, left_on='ZipCode',right_on='Geographic Area Name', how='inner')\n",
        "merged_df.drop(['Geography','Geographic Area Name','Unnamed: 4'],axis=1, inplace=True)\n",
        "merged_df.rename(columns={'Estimate!!Total':'Population Estimate','Margin of Error!!Total':'Population Margin of Error'}, inplace=True)\n",
        "merged_df.to_csv('TAXRATES_ZIP5.csv', index=False)\n",
        "print (merged_df)"
      ]
    }
  ]
}